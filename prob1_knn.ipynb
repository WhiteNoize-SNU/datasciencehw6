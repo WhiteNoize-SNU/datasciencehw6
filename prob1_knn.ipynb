{
  "cells": [
    {
      "cell_type": "markdown",
      "metadata": {
        "id": "f7MWUDI2IBYW"
      },
      "source": [
        "## Colab Setup"
      ]
    },
    {
      "cell_type": "code",
      "execution_count": 1,
      "metadata": {
        "colab": {
          "base_uri": "https://localhost:8080/"
        },
        "id": "JsEbh_t58ZJo",
        "outputId": "dd77f680-faad-4851-c40a-035d24dfec93"
      },
      "outputs": [],
      "source": [
        "# from google.colab import drive\n",
        "# drive.mount('/content/drive')"
      ]
    },
    {
      "cell_type": "code",
      "execution_count": 2,
      "metadata": {
        "colab": {
          "base_uri": "https://localhost:8080/"
        },
        "id": "_GXMM3Js7hII",
        "outputId": "ab6fed0a-c7cb-40e3-f6b1-348e5a5b0b48"
      },
      "outputs": [
        {
          "data": {
            "text/plain": [
              "'\\nChange directory to where this file is located\\n'"
            ]
          },
          "execution_count": 2,
          "metadata": {},
          "output_type": "execute_result"
        }
      ],
      "source": [
        "\"\"\"\n",
        "Change directory to where this file is located\n",
        "\"\"\"\n",
        "# %cd /content/drive/MyDrive/데사원리와응용/"
      ]
    },
    {
      "cell_type": "markdown",
      "metadata": {
        "id": "rR3VeoqMIFbq"
      },
      "source": [
        "## Import Modules"
      ]
    },
    {
      "cell_type": "code",
      "execution_count": 3,
      "metadata": {
        "id": "JAC2qQEy7rM8"
      },
      "outputs": [],
      "source": [
        "import numpy as np\n",
        "import matplotlib.pyplot as plt\n",
        "from mnist.data_utils import load_data"
      ]
    },
    {
      "cell_type": "markdown",
      "metadata": {
        "id": "jMw488CqIOhm"
      },
      "source": [
        "## K-Nearest Neighbor Implementation"
      ]
    },
    {
      "cell_type": "code",
      "execution_count": 4,
      "metadata": {
        "id": "zpsV2Bb3r3s4"
      },
      "outputs": [],
      "source": [
        "class KNN:\n",
        "    \"\"\" k-nearest neighbor classifier class \"\"\"\n",
        "\n",
        "    def train(self, X, y):\n",
        "        \"\"\"\n",
        "        Train the classifier using the given training data (X, y).\n",
        "        Recall that for k-nearest neighbors this is just memorizing the training\n",
        "        data.\n",
        "\n",
        "        Inputs:\n",
        "        - X: A numpy array of shape (N, D), where N is the number of data points,\n",
        "             D is the dimensionality of each data point.\n",
        "        - y: A numpy array of shape (N,) containing the training labels, where\n",
        "             y[i] is the label for X[i]. With C classes, each y[i] is an integer\n",
        "             from 0 to C-1.\n",
        "        \"\"\"\n",
        "        #### Question (a): your implementation starts here (don't delete this line)\n",
        "        self.X_train = X\n",
        "        self.y_train = y\n",
        "        #### Question (a): your implementation ends here (don't delete this line)\n",
        "\n",
        "    def inference(self, X_test, k=1, dist_metric='dot'): \n",
        "        \"\"\"\n",
        "        For each test example in X, this method predicts its label by majority vote\n",
        "        from the k nearest training samples. It returns the predicted labels. \n",
        "\n",
        "        Do NOT modify this method.\n",
        "\n",
        "        Inputs:\n",
        "        - X: A numpy array of shape (N, D), where N is the number of data points,\n",
        "             D is the dimensionality of each data point.\n",
        "        - k: The number of neighbors to participate in voting.\n",
        "        - dist_metric: Determines the distance metric to use. The default is dot-product ('dot'),\n",
        "             but you will need to implement 'l2' for question (b).\n",
        "\n",
        "        Returns:\n",
        "        - y_pred: A numpy array of shape (N,) containing predicted labels for the test data X,\n",
        "             where y_pred[i] is the predicted label for the test point X[i].\n",
        "        \"\"\"\n",
        "        # Compute the distance matrix below with the given metric.\n",
        "        dists = self.compute_distance(X_test, dist_metric)\n",
        "        \n",
        "        # Predict the labels with the distance matrix.\n",
        "        y_pred = self.predict_labels(X_test, dists, k)\n",
        "\n",
        "        return y_pred\n",
        "\n",
        "    def compute_distance(self, X_test, dist_metric='dot'):\n",
        "        \"\"\"\n",
        "        Computes the distance between the training data and test data, \n",
        "        using dot-product similarity or Euclidean (L2) distance as the distance metric.\n",
        "\n",
        "        Inputs:\n",
        "        - X_test: A numpy array of shape (N, D), where N is the number of test data points,\n",
        "             D is the dimensionality of each data point.\n",
        "        - X_train: A numpy array of shape (M, D), where M is the number of training data points,\n",
        "             D is the dimensionality of each data point.\n",
        "        - dist_metric: Determines the distance metric to use. The default is dot-product ('dot'),\n",
        "             but you will need to implement 'l2' for question (b).\n",
        "        \n",
        "        Returns:\n",
        "        - dists: A numpy array of shape (N, M) where N is the number of test data points, \n",
        "             and M is the number of training data points, containing distances between \n",
        "             each pair of test and train data points based on the given distance metric.\n",
        "        \"\"\"\n",
        "        if dist_metric=='dot': \n",
        "            sim = np.matmul(X_test, self.X_train.T)\n",
        "            dists = -sim\n",
        "        elif dist_metric=='l2':\n",
        "            #### Question (b): your implementation starts here (don't delete this line)\n",
        "            # Hint: refer to the code for dot-product above\n",
        "            #       and try using np.repeat and np.tile with flattened arrays.            \n",
        "            N = X_test.shape[0]\n",
        "            M = X_train.shape[0]\n",
        "            dists = np.zeros((N, M))\n",
        "            # Using formula (X - Y)^2 = X^2 + Y^2 - 2*X*Y\n",
        "            X_squared = np.tile(np.sum(np.square(self.X_train), axis=1), (N, 1))\n",
        "            Y_squared = np.tile(np.sum(np.square(X_test), axis=1), (M, 1))\n",
        "            mul = np.dot(X_test, self.X_train.T)\n",
        "            dists = np.sqrt(X_squared + Y_squared.T - 2 * mul)\n",
        "            # dists = np.sqrt(np.tile(np.sum(np.square(self.X_train), axis=1), (num_test, 1)) + np.tile(np.sum(np.square(X), axis=1), (num_train, 1)).T - 2 * np.dot(X, self.X_train.T))\n",
        "\n",
        "            #### Question (b): your implementation ends here (don't delete this line)\n",
        "        else:\n",
        "            raise KeyError(\"Distance metrics currently supported: \\'l2\\' and \\'dot\\'\")\n",
        "        return dists\n",
        "\n",
        "    def predict_labels(self, X_test, dists, k):\n",
        "        \"\"\"\n",
        "        For the given test image, this method takes a majority vote from k closest points\n",
        "        to predict the class of the test image.\n",
        "\n",
        "        Do NOT Modify this method.\n",
        "\n",
        "        Inputs:\n",
        "        - X_test: A numpy array of shape (N, D), where N is the number of test data points,\n",
        "             D is the dimensionality of each data point.\n",
        "        - dists: A numpy array of shape (N, M) where N is the number of test data points, \n",
        "             and M is the number of training data points, containing distances between \n",
        "             each pair of test and train data points based on the given distance metric.\n",
        "        - k: The number of neighbors to participate in voting.\n",
        "\n",
        "        Returns:\n",
        "        - y_pred: A numpy array of shape (N,) containing predicted labels for the test data X,\n",
        "             where y_pred[i] is the predicted label for the test point X[i].\n",
        "        \"\"\"\n",
        "        y_pred = np.zeros((X_test.shape[0],))\n",
        "        for i in range(X_test.shape[0]):\n",
        "            top_k_idx = dists[i].argsort()[:k]\n",
        "            labels = self.y_train[top_k_idx]\n",
        "            votes = np.zeros(10)\n",
        "            for j in range(labels.shape[0]):\n",
        "                votes[labels[j]] += 1\n",
        "            y_pred[i] = np.argmax(votes)\n",
        "        return y_pred\n",
        "\n",
        "\n",
        "    def evaluate(self, y_pred, y):\n",
        "        \"\"\"\n",
        "        Compares the predicted labels to the ground truth y, and prints the\n",
        "        classification accuracy.\n",
        "        \n",
        "        Do NOT modify this method.\n",
        "\n",
        "        Inputs:\n",
        "        - y_pred: A numpy array of shape (N,) containing the predicted labels, where\n",
        "             N is the number of test examples. With C classes, each y_pred[i] is\n",
        "             an integer from 0 to C-1.\n",
        "        - y: A numpy array of shape (N,) containing the ground truth labels, where\n",
        "             N is the number of test examples. With C classes, each y[i] is an integer\n",
        "             from 0 to C-1.\n",
        "        \n",
        "        Returns:\n",
        "        - accuracy\n",
        "        \"\"\"\n",
        "        y_pred = np.expand_dims(y_pred, axis=1)\n",
        "        num_correct = np.sum(y_pred == y)\n",
        "        accuracy = float(num_correct) / y.shape[0]\n",
        "        return accuracy\n"
      ]
    },
    {
      "cell_type": "markdown",
      "metadata": {
        "id": "yvwolO5qHzXl"
      },
      "source": [
        "## Data Loading"
      ]
    },
    {
      "cell_type": "code",
      "execution_count": 5,
      "metadata": {
        "id": "zR9dOpGX_0iz"
      },
      "outputs": [],
      "source": [
        "def sample_data(X, y, count):\n",
        "    mask = np.random.choice(X.shape[0], count, replace=False)\n",
        "    X_sampled = X[mask]\n",
        "    y_sampled = y[mask]\n",
        "    return X_sampled, y_sampled"
      ]
    },
    {
      "cell_type": "code",
      "execution_count": 6,
      "metadata": {
        "colab": {
          "base_uri": "https://localhost:8080/"
        },
        "id": "UOzrdgGSHVXF",
        "outputId": "00323ce8-fdfb-4e23-8191-9a6b36fd3aad"
      },
      "outputs": [
        {
          "name": "stdout",
          "output_type": "stream",
          "text": [
            "MNIST data loaded:\n",
            "Training data shape: (60000, 784)\n",
            "Training labels shape: (60000, 1)\n",
            "Test data shape: (10000, 784)\n",
            "Test labels shape: (10000, 1)\n"
          ]
        }
      ],
      "source": [
        "num_train_data = 20000\n",
        "num_test_data = 4000\n",
        "\n",
        "X_train_src, y_train_src, X_test_src, y_test_src = load_data(one_hot_encoding=False) # Training data is flattened when data is loaded\n",
        "X_train, y_train = sample_data(X_train_src, y_train_src, num_train_data)\n",
        "X_test, y_test = sample_data(X_test_src, y_test_src, num_test_data)"
      ]
    },
    {
      "cell_type": "markdown",
      "metadata": {
        "id": "lZDHMwziIpja"
      },
      "source": [
        "## Model Training & Evaluation"
      ]
    },
    {
      "cell_type": "code",
      "execution_count": 7,
      "metadata": {
        "id": "nfq-3_r4IsHB"
      },
      "outputs": [],
      "source": [
        "model = KNN()\n",
        "model.train(X_train, y_train)"
      ]
    },
    {
      "cell_type": "code",
      "execution_count": 8,
      "metadata": {
        "colab": {
          "base_uri": "https://localhost:8080/"
        },
        "id": "fPmKakDuuc8b",
        "outputId": "9b2023fe-16a5-433c-ef2f-082173aa124e"
      },
      "outputs": [
        {
          "name": "stdout",
          "output_type": "stream",
          "text": [
            "Accuarcy: 0.955\n"
          ]
        }
      ],
      "source": [
        "\"\"\"\n",
        "Model used to test the performance.\n",
        "\"\"\"\n",
        "K = 15\n",
        "y_pred = model.inference(X_test, k=K, dist_metric='l2')\n",
        "acc = model.evaluate(y_pred, y_test)\n",
        "print(\"Accuarcy:\", acc)"
      ]
    },
    {
      "cell_type": "markdown",
      "metadata": {
        "id": "_-IRMbqqRtmh"
      },
      "source": [
        "## Experiments"
      ]
    },
    {
      "cell_type": "code",
      "execution_count": 9,
      "metadata": {
        "id": "du0NzUh_R9Va"
      },
      "outputs": [],
      "source": [
        "#### Question (c): your implementation starts here (don't delete this line)"
      ]
    },
    {
      "cell_type": "code",
      "execution_count": 10,
      "metadata": {
        "id": "r0IsD2pwgFxM"
      },
      "outputs": [],
      "source": [
        "# Modify the number of k's and metrics to try as you want\n",
        "num_ks = 50 # number of k's\n",
        "metrics = ['dot', 'l2']"
      ]
    },
    {
      "cell_type": "code",
      "execution_count": 11,
      "metadata": {
        "colab": {
          "base_uri": "https://localhost:8080/"
        },
        "id": "68AnUY2wSkMX",
        "outputId": "5f87ecc6-2665-41c8-9c54-8a298a9718e5"
      },
      "outputs": [
        {
          "name": "stdout",
          "output_type": "stream",
          "text": [
            "running KNN with dot distance metric\n",
            "    processing... k=  5\n",
            "    processing... k= 10\n",
            "    processing... k= 15\n",
            "    processing... k= 20\n",
            "    processing... k= 25\n",
            "    processing... k= 30\n",
            "    processing... k= 35\n",
            "    processing... k= 40\n",
            "    processing... k= 45\n",
            "    processing... k= 50\n",
            "\n",
            "running KNN with l2 distance metric\n",
            "    processing... k=  5\n",
            "    processing... k= 10\n",
            "    processing... k= 15\n",
            "    processing... k= 20\n",
            "    processing... k= 25\n",
            "    processing... k= 30\n",
            "    processing... k= 35\n",
            "    processing... k= 40\n",
            "    processing... k= 45\n",
            "    processing... k= 50\n",
            "\n"
          ]
        }
      ],
      "source": [
        "# Run experiments\n",
        "print_k_interval = 5\n",
        "result = dict(zip(metrics, [[] for _ in range(len(metrics))]))\n",
        "for metric in metrics:\n",
        "    print(\"running KNN with {} distance metric\".format(metric))\n",
        "    for k in range(1, num_ks+1):\n",
        "        if k % print_k_interval==0:\n",
        "            print(\"    processing... k={:3d}\".format(k))\n",
        "        y_pred = model.inference(X_test, k=k, dist_metric=metric)\n",
        "        acc = model.evaluate(y_pred, y_test)\n",
        "        result[metric].append(acc)\n",
        "    print()"
      ]
    },
    {
      "cell_type": "code",
      "execution_count": 12,
      "metadata": {
        "colab": {
          "base_uri": "https://localhost:8080/",
          "height": 350
        },
        "id": "Q47KrG6ch6MH",
        "outputId": "ad458b37-7a2c-4d90-be36-85151f63102e"
      },
      "outputs": [
        {
          "data": {
            "image/png": "[encoded data removed]",
            "text/plain": [
              "<Figure size 720x360 with 1 Axes>"
            ]
          },
          "metadata": {
            "needs_background": "light"
          },
          "output_type": "display_data"
        }
      ],
      "source": [
        "# Visualize and report the results\n",
        "fig = plt.figure(figsize=(10,5))\n",
        "ax = fig.add_subplot(1,1,1)\n",
        "\n",
        "x_axis = np.arange(1, num_ks+1, 1)\n",
        "for i, metric in enumerate(metrics):\n",
        "    ax.scatter(x_axis, result[metric], label = metric)\n",
        "\n",
        "ax.set(title=\"K-Nearest Neighbor Accuracies on different Ks\")\n",
        "ax.set(xlabel='K', ylabel='Accuracy')\n",
        "ax.set(xticks=np.arange(0, num_ks+1,5), yticks=np.arange(0.5,1.0,0.05))\n",
        "ax.legend()\n",
        "plt.show()"
      ]
    },
    {
      "cell_type": "code",
      "execution_count": 13,
      "metadata": {
        "colab": {
          "base_uri": "https://localhost:8080/",
          "height": 35
        },
        "id": "WW3J18F9-S7a",
        "outputId": "83d7f511-9a3e-478e-e634-db3d19dd3cad"
      },
      "outputs": [
        {
          "data": {
            "text/plain": [
              "'\\nExperiment with multiple values of k for both types of distances (dot-product similarity, L2 distance) \\nin computing k nearest neighbors and compare the results. \\n'"
            ]
          },
          "execution_count": 13,
          "metadata": {},
          "output_type": "execute_result"
        }
      ],
      "source": [
        "\"\"\"\n",
        "Experiment with multiple values of k for both types of distances (dot-product similarity, L2 distance) \n",
        "in computing k nearest neighbors and compare the results. \n",
        "\"\"\""
      ]
    },
    {
      "cell_type": "markdown",
      "metadata": {
        "id": "ZdTeZQpo97x6"
      },
      "source": [
        "## Effect of k"
      ]
    },
    {
      "cell_type": "markdown",
      "metadata": {},
      "source": [
        "For both metrics, we cannot observe distinct peak as k increased if dataset is enough large. This is because the larger the dataset is, the lesser we succrently choose the outlier, makes KNN choose more appropriate data when training. Consequently, accuracy graph gets smoothed and we can say that L2 metric works well for small k (~5) and dot metric for large k (keeps increasing when k increases).\n",
        "On the other hand, if dataset is small, we can observe obvious optimal k. "
      ]
    },
    {
      "cell_type": "code",
      "execution_count": 14,
      "metadata": {
        "id": "7UklB9iFSfbC"
      },
      "outputs": [],
      "source": [
        "#### Question (c): your implementation ends here (don't delete this line)"
      ]
    },
    {
      "cell_type": "markdown",
      "metadata": {},
      "source": []
    },
    {
      "cell_type": "code",
      "execution_count": null,
      "metadata": {
        "id": "rASqrla13lxc"
      },
      "outputs": [],
      "source": []
    }
  ],
  "metadata": {
    "colab": {
      "collapsed_sections": [],
      "name": "prob1_knn.ipynb",
      "provenance": []
    },
    "interpreter": {
      "hash": "df0893f56f349688326838aaeea0de204df53a132722cbd565e54b24a8fec5f6"
    },
    "kernelspec": {
      "display_name": "Python 3.8.11 64-bit",
      "name": "python3"
    },
    "language_info": {
      "codemirror_mode": {
        "name": "ipython",
        "version": 3
      },
      "file_extension": ".py",
      "mimetype": "text/x-python",
      "name": "python",
      "nbconvert_exporter": "python",
      "pygments_lexer": "ipython3",
      "version": "3.8.11"
    }
  },
  "nbformat": 4,
  "nbformat_minor": 0
}
